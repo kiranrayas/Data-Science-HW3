{
 "cells": [
  {
   "cell_type": "code",
   "execution_count": 1,
   "metadata": {},
   "outputs": [],
   "source": [
    "#Kiran Rao"
   ]
  },
  {
   "cell_type": "code",
   "execution_count": 2,
   "metadata": {},
   "outputs": [],
   "source": [
    "#the first function get_market_cap creates a list of dictionaries\n",
    "#each of those dictionaries contain company name, value, unit and year\n",
    "\n",
    "#the second function detects the substring of the form ddx...ddx\n",
    "#it prints out the slice and length of the pattern if found\n",
    "#it also creates a dictionary giving out the information about the found pattern\n",
    "\n",
    "#the third function is the second part of the homework coded in another way which produces more results"
   ]
  },
  {
   "cell_type": "code",
   "execution_count": 3,
   "metadata": {},
   "outputs": [],
   "source": [
    "import re            #imports regular expression library\n",
    "\n",
    "#this function extracts company name, the amount, unit of its value and the year it was recorded\n",
    "#this uses regular expression to extract the information\n",
    "\n",
    "def get_market_cap(filename):           #the function takes filename as an argument\n",
    "    with open(filename) as f:           #opens the file\n",
    "        contents = f.readlines()        #reads the file\n",
    "    details = contents[1:]              #ignores the first line and the rest is added to details\n",
    "    company = []                        #list company is used to maintain all the company names\n",
    "    amount = []                         #list amount is used to maintain all the amount\n",
    "    unit = []                           #list unit is used to maintain the units of the values\n",
    "    year = []                           #list year is used to maintain the year it was recorded\n",
    "    list_of_dictionary = []             #list list_of_dictionary is used to maintain all the details\n",
    "\n",
    "    for i in details:                            #for each line in details\n",
    "        amt = re.findall(\"\\$(\\d*\\.?\\d+)\",i)      #to extract the amount, it looks for numbers starting with a $\n",
    "        if(re.findall('\\d*\\.\\d+',amt[0])):       #if the amount value extracted contains a decimal point then\n",
    "            amount.append(float(amt[0]))         #it is converted to float and appended to the list amount\n",
    "        else:\n",
    "            amount.append(int(amt[0]))           #else it is converted to int and appended to the list amount\n",
    "            \n",
    "        ut = re.findall(\"[tbm]r?illion\", i)      #to extract the unit of the value it checks if the first letter of the word is either t, m or b, an optional r and illion\n",
    "        unit.append(ut[0])                       #it appends the detected unit to the list unit\n",
    "\n",
    "        #to extract the company name it looks for has, had or reached preceeded with a space\n",
    "        possible_words = re.compile(r\"\"\"                \n",
    "                                    (.*)                #match any\n",
    "                                    \\s                  #match a space\n",
    "                                    (has|had|reached)   #match either has, had or reached\n",
    "                                    \"\"\",re.VERBOSE)     #uses the re.VERBOSE mode\n",
    "        m = possible_words.search(i)                    #looks for this pattern in the line\n",
    "        company.append(m.group(1))                      #appends the extracted company name to list company\n",
    "\n",
    "        if re.search('\\s\\d+', i):                       #to extract the year, it looks for a number preceeded with space as the amount is preceeded with a $ sign \n",
    "            num = re.search('\\s(\\d+)', i)               #matches the number \n",
    "            year.append(int(num.group(1)))              #appends the year to the list year\n",
    "        elif re.search('now|today', i):                 #looks for words like now or today\n",
    "            year.append(2022)                           #if present, then current year 2022 is appended to year list\n",
    "        elif re.search('same time', i):                 #looks for the words same time\n",
    "            year.append(year[len(year)-1])              #if present, appends the previous year\n",
    "        else: \n",
    "            year.append(2022)                           #if no temporal word is found then the current year 2022 is appended to the list year\n",
    "        \n",
    "        info = dict()                                   #a dictionary named info is created\n",
    "        info['company'] = company[len(company)-1]       #the extracted company name of the current line is assigned to the dictionary corresponding to the key 'company'\n",
    "        info['value'] = amount[len(amount)-1]           #the extarcted amount of the current line is assigned to the dictionary corresponding to the key 'value'\n",
    "        info['unit'] = unit[len(unit)-1]                #the extracted unit of value of the current line is assigned to the dictionary corresponding to the key 'unit'\n",
    "        info['year'] = year[len(year)-1]                #the extracted year of the current line is assigned to the dictionary correspomding to the key 'year'\n",
    "        list_of_dictionary.append(info)                 #the dictionary is appended to the list list_of_dictionary\n",
    "    print(list_of_dictionary)                           #the list is printed\n",
    "    print(\"\\n\")"
   ]
  },
  {
   "cell_type": "code",
   "execution_count": 4,
   "metadata": {},
   "outputs": [],
   "source": [
    "#this function finds the substring of the form ddx...ddx where d is any number 0..9 and x is any decimal digit\n",
    "#it finds the slice and teh length of the substring\n",
    "#this function also prints a list of dictionary containing information about the substring\n",
    "\n",
    "#this function does not use for loop for x in ddx\n",
    "\n",
    "def get_digit_patterns(filename):         #the function takes filename as its argument\n",
    "    f = open(filename,'r')                  #opens the file in read mode\n",
    "    s = \"\"                                 #an empty string s is created\n",
    "    for line in f.readlines():             \n",
    "        s=s+line                           #each line of the file gets appended to the string s\n",
    "        new_string = re.sub('\\n', '', s)   #this substitutes \\n with '' and a new string is created called new_string\n",
    "    \n",
    "    l = []                                 #a list l is created to maintain the list of dictionaries\n",
    "    for i in range(10):                    #this is for d in ddx            \n",
    "        for k in re.finditer(rf'({i}{i}\\d).*?\\1', new_string):         #finditer is used to find the pattern. Group for the pattern {i}{i}[0-9] is created, .*? is used to match any numbers that come anfter it(? is added to match in a non greedy way) and the \\1 is used to reuse the group {i}{i}[0-9]    \n",
    "            print(\"found \"+k.group(1)+\" in slice \"+str(k.start())+\":\"+str(k.end())+\" of length \"+str(k.end()-k.start()))    #start() and end() are used to determine the slices\n",
    "            d = dict()                         #a dictionary is created\n",
    "            d['d'] = i                         #i which contains d in the pattern ddx is assigned to the dictionary corresponding to the key 'd'\n",
    "            d['x'] = k.group(1)[2]             #k.group(1)[2] which contains x in the pattern ddx is assigned to the dictionary corresponding to the key 'x'\n",
    "            d['start'] = k.start()             #start() is used to determine the first index of the substring to be found\n",
    "            d['end'] = k.end()                 #end() is used to determine the last index of the substring to be found\n",
    "            d['length'] = k.end()-k.start()    #length of the substring is determined by taking the difference of the last and the first indices\n",
    "            l.append(d)                        #the dictionary is appended to the list l\n",
    "    print(\"\\n\")\n",
    "    print(l)     "
   ]
  },
  {
   "cell_type": "code",
   "execution_count": 5,
   "metadata": {},
   "outputs": [
    {
     "name": "stdout",
     "output_type": "stream",
     "text": [
      "[{'company': 'Dutch East India Company', 'value': 8.28, 'unit': 'trillion', 'year': 1637}, {'company': 'Mississippi Company', 'value': 6.8, 'unit': 'trillion', 'year': 1720}, {'company': 'South Sea Company', 'value': 4.5, 'unit': 'billion', 'year': 1720}, {'company': 'Saudi Aramco', 'value': 1.89, 'unit': 'trillion', 'year': 2022}, {'company': 'Apple', 'value': 1.3, 'unit': 'trillion', 'year': 2022}, {'company': 'PetroChina', 'value': 1.24, 'unit': 'trillion', 'year': 2007}, {'company': 'Microsoft', 'value': 1.2, 'unit': 'trillion', 'year': 2022}, {'company': 'Standard Oil', 'value': 1, 'unit': 'trillion', 'year': 1911}, {'company': 'Alphabet', 'value': 931, 'unit': 'million', 'year': 2022}, {'company': 'Amazon', 'value': 886, 'unit': 'million', 'year': 2022}]\n",
      "\n",
      "\n",
      "found 001 in slice 359:975 of length 616\n",
      "found 117 in slice 93:156 of length 63\n",
      "found 113 in slice 361:760 of length 399\n",
      "found 223 in slice 134:826 of length 692\n",
      "found 334 in slice 214:833 of length 619\n",
      "found 445 in slice 58:806 of length 748\n",
      "found 664 in slice 116:278 of length 162\n",
      "found 669 in slice 591:894 of length 303\n",
      "found 661 in slice 968:983 of length 15\n",
      "found 778 in slice 620:635 of length 15\n",
      "found 778 in slice 947:956 of length 9\n",
      "found 881 in slice 203:319 of length 116\n",
      "found 881 in slice 321:850 of length 529\n",
      "found 998 in slice 78:768 of length 690\n",
      "\n",
      "\n",
      "[{'d': 0, 'x': '1', 'start': 359, 'end': 975, 'length': 616}, {'d': 1, 'x': '7', 'start': 93, 'end': 156, 'length': 63}, {'d': 1, 'x': '3', 'start': 361, 'end': 760, 'length': 399}, {'d': 2, 'x': '3', 'start': 134, 'end': 826, 'length': 692}, {'d': 3, 'x': '4', 'start': 214, 'end': 833, 'length': 619}, {'d': 4, 'x': '5', 'start': 58, 'end': 806, 'length': 748}, {'d': 6, 'x': '4', 'start': 116, 'end': 278, 'length': 162}, {'d': 6, 'x': '9', 'start': 591, 'end': 894, 'length': 303}, {'d': 6, 'x': '1', 'start': 968, 'end': 983, 'length': 15}, {'d': 7, 'x': '8', 'start': 620, 'end': 635, 'length': 15}, {'d': 7, 'x': '8', 'start': 947, 'end': 956, 'length': 9}, {'d': 8, 'x': '1', 'start': 203, 'end': 319, 'length': 116}, {'d': 8, 'x': '1', 'start': 321, 'end': 850, 'length': 529}, {'d': 9, 'x': '8', 'start': 78, 'end': 768, 'length': 690}]\n"
     ]
    }
   ],
   "source": [
    "CMP_DICTS = get_market_cap('market-cap-history.txt')   #get_market_cap function is called\n",
    "DGT_DICTS = get_digit_patterns('digits_of_pi.txt')     #get_digits_patterns function is called"
   ]
  },
  {
   "cell_type": "code",
   "execution_count": 6,
   "metadata": {},
   "outputs": [],
   "source": [
    "#this function finds the substring of the form ddx...ddx where d is any number 0..9 and x is any decimal digit\n",
    "#it finds the slice and the length of the substring\n",
    "#this function also prints a list of dictionary containing information about the substring\n",
    "\n",
    "#this function uses for loop for x in ddx\n",
    "#I have kept this function as this produces more matches\n",
    "\n",
    "def get_digit_patterns_1(filename):        #the function takes filename as its argument\n",
    "    f = open(filename,'r')                 #opens the file in read mode\n",
    "    s = \"\"                                 #an empty string s is created\n",
    "    for line in f.readlines():             \n",
    "        s=s+line                           #each line of the file gets appended to the string s\n",
    "        new_string = re.sub('\\n', '', s)   #this substitutes \\n with '' and a new string is created called new_string\n",
    "    \n",
    "    l = []                                 #a list l is created to maintain the list of dictionaries\n",
    "    for i in range(10):                    #this is for d in ddx\n",
    "        for j in range(0, 10):              #this is for x in ddx\n",
    "            \n",
    "            for k in re.finditer(rf'({i}{i}{j}).*?\\1', new_string):         #finditer is used to find the pattern. Group for {i}{i}{j} is created, .*? is used to match any numbers that come anfter it(? is added to match in a non greedy way) and the \\1 is used to reuse the group {i}{i}{j}    \n",
    "                print(\"found \"+ k.group(1)+ \" in slice \"+str(k.start())+\":\"+str(k.end())+\" of length \"+str(k.end()-k.start()))    #start() and end() are used to determine the slices\n",
    "                d = dict()                         #a dictionary is created\n",
    "                d['d'] = i                         #i which contains d in the pattern ddx is assigned to the dictionary corresponding to the key 'd'\n",
    "                d['x'] = k.group(1)[2]             #k.group(1)[2] gives the x of ddx which is assigned to the dictionary corresponding to the key 'x'\n",
    "                d['start'] = k.start()             #start() is used to determine the first index of the substring to be found\n",
    "                d['end'] = k.end()                 #end() is used to determine the last index of the substring to be found\n",
    "                d['length'] = k.end()-k.start()    #length of the substring is determined by taking the difference of the last and the first indices\n",
    "                l.append(d)                        #the dictionary is appended to the list l\n",
    "    print(\"\\n\")\n",
    "    print(l)                                       #the list is printed"
   ]
  },
  {
   "cell_type": "code",
   "execution_count": 7,
   "metadata": {},
   "outputs": [
    {
     "name": "stdout",
     "output_type": "stream",
     "text": [
      "found 000 in slice 600:857 of length 257\n",
      "found 001 in slice 359:975 of length 616\n",
      "found 111 in slice 152:985 of length 833\n",
      "found 113 in slice 361:760 of length 399\n",
      "found 117 in slice 93:156 of length 63\n",
      "found 117 in slice 426:439 of length 13\n",
      "found 118 in slice 444:848 of length 404\n",
      "found 119 in slice 493:986 of length 493\n",
      "found 223 in slice 134:826 of length 692\n",
      "found 224 in slice 534:663 of length 129\n",
      "found 227 in slice 483:689 of length 206\n",
      "found 330 in slice 363:403 of length 40\n",
      "found 334 in slice 214:833 of length 619\n",
      "found 336 in slice 502:509 of length 7\n",
      "found 440 in slice 510:657 of length 147\n",
      "found 445 in slice 58:806 of length 748\n",
      "found 446 in slice 124:184 of length 60\n",
      "found 446 in slice 216:455 of length 239\n",
      "found 661 in slice 968:983 of length 15\n",
      "found 664 in slice 116:278 of length 162\n",
      "found 665 in slice 210:379 of length 169\n",
      "found 669 in slice 256:594 of length 338\n",
      "found 771 in slice 624:744 of length 120\n",
      "found 778 in slice 620:635 of length 15\n",
      "found 778 in slice 947:956 of length 9\n",
      "found 881 in slice 203:319 of length 116\n",
      "found 881 in slice 321:850 of length 529\n",
      "found 882 in slice 371:933 of length 562\n",
      "found 995 in slice 704:779 of length 75\n",
      "found 996 in slice 458:749 of length 291\n",
      "found 998 in slice 78:768 of length 690\n",
      "found 999 in slice 761:767 of length 6\n",
      "\n",
      "\n",
      "[{'d': 0, 'x': '0', 'start': 600, 'end': 857, 'length': 257}, {'d': 0, 'x': '1', 'start': 359, 'end': 975, 'length': 616}, {'d': 1, 'x': '1', 'start': 152, 'end': 985, 'length': 833}, {'d': 1, 'x': '3', 'start': 361, 'end': 760, 'length': 399}, {'d': 1, 'x': '7', 'start': 93, 'end': 156, 'length': 63}, {'d': 1, 'x': '7', 'start': 426, 'end': 439, 'length': 13}, {'d': 1, 'x': '8', 'start': 444, 'end': 848, 'length': 404}, {'d': 1, 'x': '9', 'start': 493, 'end': 986, 'length': 493}, {'d': 2, 'x': '3', 'start': 134, 'end': 826, 'length': 692}, {'d': 2, 'x': '4', 'start': 534, 'end': 663, 'length': 129}, {'d': 2, 'x': '7', 'start': 483, 'end': 689, 'length': 206}, {'d': 3, 'x': '0', 'start': 363, 'end': 403, 'length': 40}, {'d': 3, 'x': '4', 'start': 214, 'end': 833, 'length': 619}, {'d': 3, 'x': '6', 'start': 502, 'end': 509, 'length': 7}, {'d': 4, 'x': '0', 'start': 510, 'end': 657, 'length': 147}, {'d': 4, 'x': '5', 'start': 58, 'end': 806, 'length': 748}, {'d': 4, 'x': '6', 'start': 124, 'end': 184, 'length': 60}, {'d': 4, 'x': '6', 'start': 216, 'end': 455, 'length': 239}, {'d': 6, 'x': '1', 'start': 968, 'end': 983, 'length': 15}, {'d': 6, 'x': '4', 'start': 116, 'end': 278, 'length': 162}, {'d': 6, 'x': '5', 'start': 210, 'end': 379, 'length': 169}, {'d': 6, 'x': '9', 'start': 256, 'end': 594, 'length': 338}, {'d': 7, 'x': '1', 'start': 624, 'end': 744, 'length': 120}, {'d': 7, 'x': '8', 'start': 620, 'end': 635, 'length': 15}, {'d': 7, 'x': '8', 'start': 947, 'end': 956, 'length': 9}, {'d': 8, 'x': '1', 'start': 203, 'end': 319, 'length': 116}, {'d': 8, 'x': '1', 'start': 321, 'end': 850, 'length': 529}, {'d': 8, 'x': '2', 'start': 371, 'end': 933, 'length': 562}, {'d': 9, 'x': '5', 'start': 704, 'end': 779, 'length': 75}, {'d': 9, 'x': '6', 'start': 458, 'end': 749, 'length': 291}, {'d': 9, 'x': '8', 'start': 78, 'end': 768, 'length': 690}, {'d': 9, 'x': '9', 'start': 761, 'end': 767, 'length': 6}]\n"
     ]
    }
   ],
   "source": [
    "get_digit_patterns_1('digits_of_pi.txt')"
   ]
  },
  {
   "cell_type": "code",
   "execution_count": null,
   "metadata": {},
   "outputs": [],
   "source": []
  }
 ],
 "metadata": {
  "kernelspec": {
   "display_name": "Python 3",
   "language": "python",
   "name": "python3"
  },
  "language_info": {
   "codemirror_mode": {
    "name": "ipython",
    "version": 3
   },
   "file_extension": ".py",
   "mimetype": "text/x-python",
   "name": "python",
   "nbconvert_exporter": "python",
   "pygments_lexer": "ipython3",
   "version": "3.8.3"
  }
 },
 "nbformat": 4,
 "nbformat_minor": 4
}
